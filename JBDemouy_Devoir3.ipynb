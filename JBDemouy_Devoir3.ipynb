{
 "cells": [
  {
   "cell_type": "markdown",
   "metadata": {},
   "source": [
    "# Devoir 3 - JB Demouy ! Fun Fun Fun"
   ]
  },
  {
   "cell_type": "markdown",
   "metadata": {},
   "source": [
    "<div style=\"background:gray\">Journalisme de Données</div>"
   ]
  },
  {
   "cell_type": "markdown",
   "metadata": {},
   "source": [
    "Ici, on commence par mettre les codes dont on va avoir besoin : \n",
    "1. Tout d'abord, importer panda\n",
    "2. Le problème est le nombre de colonnes. Il y en a trop donc j'ai trouvé cette ligne qui nous permet d'afficher visuellement toute les colonnes dont nous avons besoin\n",
    "3. J'ai ajouté celle-ci par rapport à nos exercices en classe pour lire correctement certaines données"
   ]
  },
  {
   "cell_type": "code",
   "execution_count": 220,
   "metadata": {},
   "outputs": [],
   "source": [
    "import pandas as pan\n",
    "pan.set_option('display.max_columns', 500)\n",
    "pan.options.display.float_format = \"{:.2f}\".format"
   ]
  },
  {
   "cell_type": "markdown",
   "metadata": {},
   "source": [
    "Com Entrée 3 : Lire le csv. J'ai ajouté la fonction \"low_memory=False\" pour palier à une erreur déjà rencontrée durant notre cours."
   ]
  },
  {
   "cell_type": "code",
   "execution_count": 221,
   "metadata": {},
   "outputs": [],
   "source": [
    "grants = pan.read_csv(\"grants.csv\", low_memory=False)"
   ]
  },
  {
   "cell_type": "markdown",
   "metadata": {},
   "source": [
    "Petit checkup! Ça marche!"
   ]
  },
  {
   "cell_type": "markdown",
   "metadata": {},
   "source": [
    "Ok, maintenant, voyons toutes les colonnes (il y en a en masse!)"
   ]
  },
  {
   "cell_type": "code",
   "execution_count": 222,
   "metadata": {},
   "outputs": [
    {
     "data": {
      "text/plain": [
       "Index(['ref_number', 'amendment_number', 'amendment_date', 'agreement_type',\n",
       "       'recipient_type', 'recipient_business_number', 'recipient_legal_name',\n",
       "       'recipient_operating_name', 'research_organization_name',\n",
       "       'recipient_country', 'recipient_province', 'recipient_city',\n",
       "       'recipient_postal_code', 'federal_riding_name_en',\n",
       "       'federal_riding_name_fr', 'federal_riding_number', 'prog_name_en',\n",
       "       'prog_name_fr', 'prog_purpose_en', 'prog_purpose_fr',\n",
       "       'agreement_title_en', 'agreement_title_fr', 'agreement_number',\n",
       "       'agreement_value', 'foreign_currency_type', 'foreign_currency_value',\n",
       "       'agreement_start_date', 'agreement_end_date', 'coverage',\n",
       "       'description_en', 'description_fr', 'naics_identifier',\n",
       "       'expected_results_en', 'expected_results_fr',\n",
       "       'additional_information_en', 'additional_information_fr', 'owner_org',\n",
       "       'owner_org_title'],\n",
       "      dtype='object')"
      ]
     },
     "execution_count": 222,
     "metadata": {},
     "output_type": "execute_result"
    }
   ],
   "source": [
    "grants.columns"
   ]
  },
  {
   "cell_type": "markdown",
   "metadata": {},
   "source": [
    "Maintenant, retirons toutes les colonnes qui sont uniquement en anglais. Elles contiennt l'inscription _en donc facile à repérer"
   ]
  },
  {
   "cell_type": "code",
   "execution_count": 223,
   "metadata": {},
   "outputs": [],
   "source": [
    "grants = grants.drop(['federal_riding_name_en','prog_name_en','prog_purpose_en','agreement_title_en','description_en','expected_results_en','additional_information_en', ],1)"
   ]
  },
  {
   "cell_type": "markdown",
   "metadata": {},
   "source": [
    "J'ai checké, ça marche!"
   ]
  },
  {
   "cell_type": "markdown",
   "metadata": {},
   "source": [
    "Ok, maintenant, on veut mettre toutes nos colonnes en français. Les entrées 11 et 12 nous permettent donc de le faire."
   ]
  },
  {
   "cell_type": "code",
   "execution_count": 224,
   "metadata": {},
   "outputs": [
    {
     "data": {
      "text/plain": [
       "Index(['ref_number', 'amendment_number', 'amendment_date', 'agreement_type',\n",
       "       'recipient_type', 'recipient_business_number', 'recipient_legal_name',\n",
       "       'recipient_operating_name', 'research_organization_name',\n",
       "       'recipient_country', 'recipient_province', 'recipient_city',\n",
       "       'recipient_postal_code', 'federal_riding_name_fr',\n",
       "       'federal_riding_number', 'prog_name_fr', 'prog_purpose_fr',\n",
       "       'agreement_title_fr', 'agreement_number', 'agreement_value',\n",
       "       'foreign_currency_type', 'foreign_currency_value',\n",
       "       'agreement_start_date', 'agreement_end_date', 'coverage',\n",
       "       'description_fr', 'naics_identifier', 'expected_results_fr',\n",
       "       'additional_information_fr', 'owner_org', 'owner_org_title'],\n",
       "      dtype='object')"
      ]
     },
     "execution_count": 224,
     "metadata": {},
     "output_type": "execute_result"
    }
   ],
   "source": [
    "grants.columns"
   ]
  },
  {
   "cell_type": "code",
   "execution_count": 225,
   "metadata": {},
   "outputs": [],
   "source": [
    "grants.columns = ['référence', 'numAmendement', 'dateAmendment', 'typeAccord',\n",
    "       'typeBénéficiaire', 'numAffaireBénéficiare', 'nomLégalBénéficiaire',\n",
    "       'nomOpérationBénéficiaire', 'nomOrganisationRecherche',\n",
    "       'paysBénéficiaire', 'provinceBénéficiaire', 'villeBénéficiaire',\n",
    "       'codePostalBénéficiaire', 'nomFédéral_Riding',\n",
    "       'numFédéral_Riding', 'nomProgramme', 'butProgramme',\n",
    "       'titreAccord', 'numAccord', 'valeurAccord',\n",
    "       'typeDeviseÉtrangère', 'valeurDeviseÉtrangère',\n",
    "       'dateDébutAccord', 'dateFinAccord', 'couverture',\n",
    "       'description', 'codeNAICS', 'résultatsAttendus',\n",
    "       'infosAdditionnelles', 'orgProprio', 'titreOrgProprio']"
   ]
  },
  {
   "cell_type": "markdown",
   "metadata": {},
   "source": [
    "Petit Check. Tout fonctionne."
   ]
  },
  {
   "cell_type": "markdown",
   "metadata": {},
   "source": [
    "Ici, j'ai ajouté un str.replace afin d'enlever le signe $ et la virgule afin de pouvoir lire les données en format float. Par contre, je n'ai pas trouvé comment me débarasser de .00 ..."
   ]
  },
  {
   "cell_type": "code",
   "execution_count": 228,
   "metadata": {},
   "outputs": [
    {
     "data": {
      "text/plain": [
       "0          567786.00\n",
       "1           39240.00\n",
       "2          761657.00\n",
       "3          259174.00\n",
       "4          312693.00\n",
       "5         1129294.00\n",
       "6          288197.00\n",
       "7          461816.00\n",
       "8          559325.00\n",
       "9          389687.00\n",
       "10          50000.00\n",
       "11        2138500.00\n",
       "12         376500.00\n",
       "13          69500.00\n",
       "14         971000.00\n",
       "15        3366500.00\n",
       "16         365291.00\n",
       "17         300500.00\n",
       "18          48750.00\n",
       "19          91931.00\n",
       "20        1811229.00\n",
       "21        6937485.00\n",
       "22        1943727.00\n",
       "23         600000.00\n",
       "24          26582.00\n",
       "25         158310.00\n",
       "26         124604.00\n",
       "27        1533275.00\n",
       "28        1097131.00\n",
       "29          74874.00\n",
       "             ...    \n",
       "228934      10000.00\n",
       "228935      10000.00\n",
       "228936     558000.00\n",
       "228937    1600000.00\n",
       "228938    5000000.00\n",
       "228939      15500.00\n",
       "228940    1650000.00\n",
       "228941      30000.00\n",
       "228942     558000.00\n",
       "228943      25000.00\n",
       "228944      30000.00\n",
       "228945     508000.00\n",
       "228946      25000.00\n",
       "228947      21085.00\n",
       "228948   23600000.00\n",
       "228949    1818649.00\n",
       "228950     257664.00\n",
       "228951    1550250.00\n",
       "228952      10000.00\n",
       "228953    1060000.00\n",
       "228954     400000.00\n",
       "228955     300000.00\n",
       "228956     188000.00\n",
       "228957     423184.00\n",
       "228958    1840000.00\n",
       "228959     764500.00\n",
       "228960     750000.00\n",
       "228961     230950.00\n",
       "228962    4200000.00\n",
       "228963    3465792.00\n",
       "Name: valeurAccord, Length: 228964, dtype: float64"
      ]
     },
     "execution_count": 228,
     "metadata": {},
     "output_type": "execute_result"
    }
   ],
   "source": [
    "grants[\"valeurAccord\"] = grants.valeurAccord.str.replace(\"$\", \"\")\n",
    "grants[\"valeurAccord\"] = grants.valeurAccord.str.replace(\",\", \"\")\n",
    "grants[\"valeurAccord\"] = grants.valeurAccord.astype(float)\n",
    "grants.valeurAccord"
   ]
  },
  {
   "cell_type": "markdown",
   "metadata": {},
   "source": [
    "Ici, on fait la liste de tous les programmes avec le nombre de subventions."
   ]
  },
  {
   "cell_type": "code",
   "execution_count": 229,
   "metadata": {},
   "outputs": [
    {
     "data": {
      "text/plain": [
       "Jeunesse - Emplois d'été Canada                                                                                                                                                                                                                                     41900\n",
       "Formation en recherche et perfectionnement des compétences                                                                                                                                                                                                           9021\n",
       "0                                                                                                                                                                                                                                                                    4894\n",
       "Recherche axée sur la découverte                                                                                                                                                                                                                                     4521\n",
       "Jeunesse - Connexion compétences - Projet                                                                                                                                                                                                                            4293\n",
       "Bourses de recherche de 1er cycle en milieu universitaire                                                                                                                                                                                                            3439\n",
       "Partenariats de recherche                                                                                                                                                                                                                                            2745\n",
       "Programme De Développement Économique Du Québec (PDEQ)                                                                                                                                                                                                               2594\n",
       "Établissement                                                                                                                                                                                                                                                        2284\n",
       "Programme d’aide à la recherche industrielle – Contributions aux entreprises                                                                                                                                                                                         2264\n",
       "Programme de subventions à la découverte - individuelles                                                                                                                                                                                                             2157\n",
       "Éducation                                                                                                                                                                                                                                                            1815\n",
       "Fonds pour l'accessibilité - Subventions                                                                                                                                                                                                                             1636\n",
       "Bourses Expérience                                                                                                                                                                                                                                                   1389\n",
       "Recherche axée sur la connaissance                                                                                                                                                                                                                                   1217\n",
       "Infrastructure communautaire                                                                                                                                                                                                                                         1199\n",
       "Subventions d'engagement partenarial pour les universités                                                                                                                                                                                                            1137\n",
       "Développement social                                                                                                                                                                                                                                                 1106\n",
       "Programme Croissance Des Entreprises Et Des Régions (DEC-Croissance)                                                                                                                                                                                                 1016\n",
       "Appui aux gouvernements Indiens                                                                                                                                                                                                                                       942\n",
       "Programme d’aide à la recherche industrielle – Programme emploi jeunesse - Vert                                                                                                                                                                                       879\n",
       "Fonds du Canada pour les périodiques                                                                                                                                                                                                                                  824\n",
       "Bourse d'études supérieures du Canada Alexander-Graham-Bell M                                                                                                                                                                                                         790\n",
       "Subventions Savoir                                                                                                                                                                                                                                                    726\n",
       "Bourses d'études supérieures du Canada Joseph-Armand-Bombardier - Maîtrise                                                                                                                                                                                            684\n",
       "Programme Innovation, Développement De L'Entrepreneurship Et Exportation Destiné Aux Pme (IDÉE-PME)                                                                                                                                                                   631\n",
       "Programmes d'investissement pour fermes laitières (PIFL)                                                                                                                                                                                                              597\n",
       "Programme Diversification Des Collectivités (DEC-Diversification)                                                                                                                                                                                                     596\n",
       "SPLI-Collectivités désignées-Respons. partagée                                                                                                                                                                                                                        561\n",
       "Programme D'Infrastructure Communautaire De Canada 150 (PDEQ-PIC150 )                                                                                                                                                                                                 539\n",
       "                                                                                                                                                                                                                                                                    ...  \n",
       "DGSPNI - Prestations supplémentaires en santé, DGSPNI - Transformation du système de santé, DGSPNI - Soins primaires                                                                                                                                                    1\n",
       "DGSPNI - Capacité du système de santé, DGSPNI - Promotion de la santé et prévention des maladies, DGSPNI - Prestations supplémentaires en santé                                                                                                                         1\n",
       "Gouvernance et Institutions Gouvernementales, Appui aux gouvernements Indiens                                                                                                                                                                                           1\n",
       "INSA - IPAC - Entité communautaire                                                                                                                                                                                                                                      1\n",
       "Appui aux gouvernements Indiens, Développement social, Éducation                                                                                                                                                                                                        1\n",
       "Strategic Partnerships Initiative                                                                                                                                                                                                                                       1\n",
       "DGSPNI - Promotion de la santé et prévention des maladies, DGSPNI - Soins primaires, DGSPNI - Prestations supplémentaires en santé, DGSPNI - Transformation du système de santé, DGSPNI - Capacité du système de santé, DGSPNI - Protection de la santé publique        1\n",
       "Appui aux gouvernements Indiens, Développement Économique, Éducation, Infrastructure communautaire                                                                                                                                                                      1\n",
       "Éducation, Développement social, Inscriptions des Indiens                                                                                                                                                                                                               1\n",
       "DGSPNI - Soins primaires, DGSPNI - Promotion de la santé et prévention des maladies, DGSPNI - Protection de la santé publique, DGSPNI - Transformation du système de santé                                                                                              1\n",
       "l'Initiative de développement économique                                                                                                                                                                                                                                1\n",
       "Programme Initiatives Régionales Stratégiques / Équipements Collectifs Économiques Pour Les Régions  (IRS (ECE))                                                                                                                                                        1\n",
       "Inscriptions des Indiens, Développement Économique, Développement social                                                                                                                                                                                                1\n",
       "Fonds d'intég. - Développement des compétences                                                                                                                                                                                                                          1\n",
       "Éducation, Traités et Gouvernement autochtone, Gestion des Terres                                                                                                                                                                                                       1\n",
       "Stratégie emploi jeunesse - programme de stages en science et technologie sous le programme objectif carrière                                                                                                                                                           1\n",
       "initiative de services aux jeunes - Innovation en engagement et mobilisation                                                                                                                                                                                            1\n",
       "DGSPNI - Promotion de la santé et prévention des maladies, DGSPNI - Capacité du système de santé, DGSPNI - Prestations supplémentaires en santé, DGSPNI - Protection de la santé publique                                                                               1\n",
       "l’Initiative de revitalisation du secteur riverain de Toronto                                                                                                                                                                                                           1\n",
       "DGSPNI - Soins primaires, DGSPNI - Capacité du système de santé, DGSPNI - Promotion de la santé et prévention des maladies                                                                                                                                              1\n",
       "DGSPNI - Promotion de la santé et prévention des maladies, DGSPNI - Protection de la santé publique, DGSPNI - Capacité du système de santé, DGSPNI - Transformation du système de santé                                                                                 1\n",
       "Jeunesse - Autres Contributions                                                                                                                                                                                                                                         1\n",
       "Éducation, Gouvernance et Institutions Gouvernementales, Infrastructure communautaire                                                                                                                                                                                   1\n",
       "DGSPNI - Prestations supplémentaires en santé, DGSPNI - Promotion de la santé et prévention des maladies, DGSPNI - Protection de la santé publique, DGSPNI - Soins primaires                                                                                            1\n",
       "Affaires du Nord, Développement social, Gouvernance et Institutions Gouvernementales                                                                                                                                                                                    1\n",
       "Inscriptions des Indiens, Infrastructure communautaire, Développement social                                                                                                                                                                                            1\n",
       "Soutien au Grand Sentier                                                                                                                                                                                                                                                1\n",
       "Traités et Gouvernement autochtone, Gouvernance et Institutions Gouvernementales, Affaires du Nord                                                                                                                                                                      1\n",
       "Contributions à l'appui du programme d'innovation énergétique                                                                                                                                                                                                           1\n",
       "DGSPNI - Prestations supplémentaires en santé, DGSPNI - Promotion de la santé et prévention des maladies, DGSPNI - Protection de la santé publique                                                                                                                      1\n",
       "Name: nomProgramme, Length: 1122, dtype: int64"
      ]
     },
     "execution_count": 229,
     "metadata": {},
     "output_type": "execute_result"
    }
   ],
   "source": [
    "grants.nomProgramme.value_counts()"
   ]
  },
  {
   "cell_type": "markdown",
   "metadata": {},
   "source": [
    "Ici, on se concentre uniquement sur l'organisme qui a reçu le plus de subventions, soit Jeunesse - Emplois d'été Canada. Donc on va créer un script autour de cette donnée. On voit dans le out tous les organismes au sein de Jeunesse - Emplois d'été Canada qui ont profité de subventions, le premier étant Royal City Soccer Club."
   ]
  },
  {
   "cell_type": "code",
   "execution_count": 230,
   "metadata": {},
   "outputs": [],
   "source": [
    "jeunesse = grants[\"nomProgramme\"] == \"Jeunesse - Emplois d'été Canada\"\n",
    "jeunesseDonnées = grants[jeunesse]"
   ]
  },
  {
   "cell_type": "code",
   "execution_count": 231,
   "metadata": {},
   "outputs": [],
   "source": [
    "bénéficiaires = jeunesseDonnées.groupby(\"nomLégalBénéficiaire\").valeurAccord.sum().sort_values(ascending=False)"
   ]
  },
  {
   "cell_type": "code",
   "execution_count": 232,
   "metadata": {},
   "outputs": [
    {
     "data": {
      "text/plain": [
       "nomLégalBénéficiaire\n",
       "Royal City Soccer Club                                    2744953.00\n",
       "YMCA of Greater Toronto                                   2395073.00\n",
       "Coptic Orthodox Patriarchate of Alexandria                1222580.00\n",
       "City of St. John's                                        1134987.00\n",
       "Science, technology, engineering and mathematics Camp     1122887.00\n",
       "Chinese Cultural Centre of Scarborough                     913187.00\n",
       "The Child Experience Community Programs                    844912.00\n",
       "Université Laval                                           785447.00\n",
       "City of Ottawa                                             738288.00\n",
       "Trevor Williams Kids Foundation                            724038.00\n",
       "Young Men Christian Association of Greater Vancouver       678013.00\n",
       "Society for Treatment of Autism                            671886.00\n",
       "Toronto All Star Big Band                                  665279.00\n",
       "Société franco-ontarienne de l'autisme                     654061.00\n",
       "University of Manitoba                                     642988.00\n",
       "East Scarborough Boys and Girls Club                       642600.00\n",
       "Corporation du Centre du Sablon                            637076.00\n",
       "West Scarborough Neighbourhood Community Centre            615557.00\n",
       "YMCA of Greater Vancouver                                  614346.00\n",
       "YMCA of Western Ontario                                    597047.00\n",
       "Girls Incorporated of Durham                               594216.00\n",
       "Laura Lémerveil                                            592937.00\n",
       "Options Community Services Society                         587642.00\n",
       "Association of Neighbourhood Houses of British Columbia    559104.00\n",
       "Heritage Park Society                                      558023.00\n",
       "Today's Family - Caring For Your Child                     544319.00\n",
       "Autisme Québec                                             537970.00\n",
       "University of New Brunswick                                537255.00\n",
       "Beth Jacob High School                                     530053.00\n",
       "University of Calgary                                      528266.00\n",
       "                                                             ...    \n",
       "Valley Service Station Inc                                   1005.00\n",
       "Brian James Kowalski, Evan Michael Muraay                    1005.00\n",
       "Holyrood Medical Ltd                                         1005.00\n",
       "Mountain Top Cabin                                           1005.00\n",
       "The Wilds at Salmonier River Inc.                            1005.00\n",
       "Bonaventure Retirement Home Inc                              1005.00\n",
       "Wrangled Company Limited                                      990.00\n",
       "Thomas Martin Painting                                        990.00\n",
       "gpc investments                                               990.00\n",
       "happy tots preschool and nursery                              990.00\n",
       "3294627 Nova Scotia Ltd Second Cup - HSC                      990.00\n",
       "Tora Halifax Limited                                          990.00\n",
       "3011278 Nova Scotia Limited Second Cup Bedford                990.00\n",
       "3009100 Nova Scotia Limited                                   990.00\n",
       "Sherwood Park Preschool (2015) Limited                        990.00\n",
       "West Halifax Cheerleading, Inc                                990.00\n",
       "Bedford Auto Glass                                            990.00\n",
       "Dr. Ivan Wong Medicine Professional Corporation (IWMPC)       990.00\n",
       "Q-Drilling and Remediation Incorporated                       990.00\n",
       "BOOMburger Inc.                                               990.00\n",
       "City Drug Store Ltd.                                          990.00\n",
       "DesignPoint Engineering and Surveying Limited                 990.00\n",
       "D and M Sportcards (2000) Limited                             990.00\n",
       "A.H. Cunningham Sales Ltd.                                    990.00\n",
       "Kieley Holdings Ltd                                           990.00\n",
       "Solid Works Carpentry                                         987.00\n",
       "A Horizon Ag Research Ltd.                                    987.00\n",
       "Village Of Hawarden                                           987.00\n",
       "Village of Abbey                                              987.00\n",
       "File Hills Board of Police Commissioners Inc.                 987.00\n",
       "Name: valeurAccord, Length: 31195, dtype: float64"
      ]
     },
     "execution_count": 232,
     "metadata": {},
     "output_type": "execute_result"
    }
   ],
   "source": [
    "bénéficiaires"
   ]
  },
  {
   "cell_type": "markdown",
   "metadata": {},
   "source": [
    "Maintenant, on entre dans la dernière phase de l'exercice. Répartir en pourcentage et par province les subventions octroyées par le ministère.\n",
    "Dans notre première entrée, nous avions ajouté option.display... qui nous permet de limiter à 2 chiffres après la virgule pour une lecture plus simple. \n",
    "Le Qc arrive en 2è position avec 20% de subventions loin derrière l'Ontario avec 13% de moins."
   ]
  },
  {
   "cell_type": "code",
   "execution_count": 233,
   "metadata": {},
   "outputs": [
    {
     "data": {
      "text/plain": [
       "provinceBénéficiaire\n",
       "ON   33.81\n",
       "QC   20.00\n",
       "BC   10.94\n",
       "AB    9.03\n",
       "NL    4.68\n",
       "NB    2.85\n",
       "NS    2.43\n",
       "MB    2.25\n",
       "SK    1.56\n",
       "PE    0.48\n",
       "NT    0.17\n",
       "YT    0.13\n",
       "NU    0.05\n",
       "Name: valeurAccord, dtype: float64"
      ]
     },
     "execution_count": 233,
     "metadata": {},
     "output_type": "execute_result"
    }
   ],
   "source": [
    "parProvince = jeunesseDonnées.groupby(\"provinceBénéficiaire\").valeurAccord.sum().sort_values(ascending=False)\n",
    "parProvince / (jeunesseDonnées.valeurAccord.sum())*100"
   ]
  },
  {
   "cell_type": "code",
   "execution_count": null,
   "metadata": {},
   "outputs": [],
   "source": []
  }
 ],
 "metadata": {
  "kernelspec": {
   "display_name": "Python 3",
   "language": "python",
   "name": "python3"
  },
  "language_info": {
   "codemirror_mode": {
    "name": "ipython",
    "version": 3
   },
   "file_extension": ".py",
   "mimetype": "text/x-python",
   "name": "python",
   "nbconvert_exporter": "python",
   "pygments_lexer": "ipython3",
   "version": "3.7.1"
  }
 },
 "nbformat": 4,
 "nbformat_minor": 2
}
